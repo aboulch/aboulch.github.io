{
 "cells": [
  {
   "cell_type": "markdown",
   "metadata": {},
   "source": [
    "# IOGS : Reconnaissance des formes - TP Deep Learning\n",
    "# PARTIE 1 : Classification et finetuning"
   ]
  },
  {
   "cell_type": "markdown",
   "metadata": {},
   "source": [
    "## NOM Prénom 1 - NOM Prénom 2"
   ]
  },
  {
   "cell_type": "markdown",
   "metadata": {},
   "source": [
    "Pour des raisons de temps de calcul et de puissance nécessaire, il n'est pas envisageable d'optimiser un réseau de neurones de grande taille dans le cadre de ce cours. C'est pourquoi ce TP se focalise sur l'utilisation de réseaux de neurones pré-entraînés."
   ]
  },
  {
   "cell_type": "markdown",
   "metadata": {},
   "source": [
    "## Classification"
   ]
  },
  {
   "cell_type": "markdown",
   "metadata": {},
   "source": [
    "### Classification sur CIFAR 100\n",
    "CIFAR 100 est une base de données d'images 32x32 pour la classification. Il comporte 100 classes d'images.\n",
    "Dans cette partie l'objectif est de charger un réseau et de calculer le score de classification du réseau."
   ]
  },
  {
   "cell_type": "code",
   "execution_count": null,
   "metadata": {},
   "outputs": [],
   "source": [
    "import os\n",
    "os.environ[\"CUDA_DEVICE_ORDER\"] = \"PCI_BUS_ID\"   # see issue #152\n",
    "os.environ[\"CUDA_VISIBLE_DEVICES\"] = \"\"\n",
    "import keras\n",
    "from keras.datasets import cifar10, cifar100\n",
    "from keras.preprocessing.image import ImageDataGenerator\n",
    "from keras.models import Sequential\n",
    "from keras.layers import Dense, Dropout, Activation, Flatten\n",
    "from keras.layers import Conv2D, MaxPooling2D\n",
    "import numpy as np\n",
    "import os\n"
   ]
  },
  {
   "cell_type": "code",
   "execution_count": null,
   "metadata": {
    "collapsed": true
   },
   "outputs": [],
   "source": [
    "# Download if needed the datasets\n",
    "_,_ = cifar10.load_data()\n",
    "_,_ = cifar100.load_data()"
   ]
  },
  {
   "cell_type": "markdown",
   "metadata": {},
   "source": [
    "Nous allons maintenant définir le réseau. Le réseau choisi est basé sur VGG, c'est un type de réseau très simple mais très efficace qui utilise une suite de convolutions, normalisation, ReLU et MaxPooling."
   ]
  },
  {
   "cell_type": "code",
   "execution_count": null,
   "metadata": {
    "collapsed": true
   },
   "outputs": [],
   "source": [
    "cifar100_num_classes = 100\n",
    "# define the model\n",
    "# INPUT SIZE (32,32,3)\n",
    "model = Sequential()\n",
    "model.add(Conv2D(32, (3, 3), padding='same', input_shape=[32,32,3]))\n",
    "model.add(Activation('relu'))\n",
    "model.add(Conv2D(32, (3, 3)))\n",
    "model.add(Activation('relu'))\n",
    "model.add(MaxPooling2D(pool_size=(2, 2)))\n",
    "model.add(Dropout(0.25))\n",
    "\n",
    "model.add(Conv2D(64, (3, 3), padding='same'))\n",
    "model.add(Activation('relu'))\n",
    "model.add(Conv2D(64, (3, 3)))\n",
    "model.add(Activation('relu'))\n",
    "model.add(MaxPooling2D(pool_size=(2, 2)))\n",
    "model.add(Dropout(0.25))\n",
    "\n",
    "model.add(Flatten())\n",
    "model.add(Dense(512))\n",
    "model.add(Activation('relu'))\n",
    "model.add(Dropout(0.5))\n",
    "model.add(Dense(cifar100_num_classes))\n",
    "model.add(Activation('softmax'))"
   ]
  },
  {
   "cell_type": "markdown",
   "metadata": {},
   "source": [
    "Nous allons maintenant charger les poids des réseaux pré-entrainés."
   ]
  },
  {
   "cell_type": "code",
   "execution_count": null,
   "metadata": {
    "collapsed": true
   },
   "outputs": [],
   "source": [
    "save_dir = \"keras_models\"\n",
    "model_name = \"cifar100_model\"\n",
    "model.load_weights(filepath=os.path.join(save_dir, model_name))"
   ]
  },
  {
   "cell_type": "markdown",
   "metadata": {},
   "source": [
    "Il faut maintenant préparer les données pour qu'elles soient chargées et données au réseau."
   ]
  },
  {
   "cell_type": "code",
   "execution_count": null,
   "metadata": {},
   "outputs": [],
   "source": [
    "# data loading\n",
    "(x_train, y_train), (x_test, y_test) = cifar100.load_data()\n",
    "print('x_train shape:', x_train.shape)\n",
    "print(x_train.shape[0], 'train samples')\n",
    "print(x_test.shape[0], 'test samples')\n",
    "\n",
    "# Convert class vectors to binary class matrices.\n",
    "y_train = keras.utils.to_categorical(y_train, cifar100_num_classes)\n",
    "y_test = keras.utils.to_categorical(y_test, cifar100_num_classes)\n",
    "\n",
    "# set float type and scale between 0 and 1\n",
    "x_train = x_train.astype('float32')\n",
    "x_test = x_test.astype('float32')\n",
    "x_train /= 255\n",
    "x_test /= 255\n"
   ]
  },
  {
   "cell_type": "markdown",
   "metadata": {},
   "source": [
    "Nous arrivons finalement à la partie effective du code, celle dans laquelle nous allons tester notre modèle.\n",
    "\n",
    "<div class=\"alert alert-success\">\n",
    "<b>QUESTION : Quelle est la précision du modèle sur CIFAR 100 ?</b>\n",
    "<br/>\n",
    "<b>QUESTION : Quelle est la précision par classe du modèle sur CIFAR 100 ?</b>\n",
    "<br/>\n",
    "<b>QUESTION : Quelle est la précision moyene par classe du modèle sur CIFAR 100 (c'est la moyenne des précisiond de la question précédente)?</b>\n",
    "<br/>\n",
    "\n",
    "On pourra s'aider de la ligne de code suivante `predicted_label = np.argmax(model.predict(np.expand_dims(x_test[0], axis=0)))` qui prédit le label pour l'image 0 du jeu de test.\n",
    "</div>"
   ]
  },
  {
   "cell_type": "code",
   "execution_count": null,
   "metadata": {},
   "outputs": [],
   "source": [
    "# HERE GOES THE CODE\n",
    "# ...\n",
    "acc_per_class = [0 for i in range(cifar100_num_classes)]\n",
    "acc = 0\n",
    "acc_mean = 0\n",
    "print(\"Accuracy\",acc)\n",
    "print(\"Accuracy per class\",acc_per_class)\n",
    "print(\"Mean accuracy\", acc_mean)"
   ]
  },
  {
   "cell_type": "markdown",
   "metadata": {},
   "source": [
    "### Adaptation pour CIFAR 10\n",
    "\n",
    "CIFAR 10 est un dataset plus ancien, sur le même format que CIFAR 100 mais avec seulement 10 classes. \n",
    "Une méthode pour faire de la classification sur ces dix classes est de réentraîner un nouveau réseau.\n",
    "\n",
    "Nous nous proposons ici d'utiliser deux approches différentes, très utilisées dans le cas où la puissance de calcul est limitée ou lorsque le dataset d'entraînement est petit, c'est à dire pas assez grand pour entraîner un réseau de neurone de cette taille.\n",
    "\n",
    "L'idée générale est que les caractéristiques produites par le réseau sont bonnes, et que seul le classifieur néessite d'être modifié. Pour cela nous enlevons les deux dernières couches du réseau.\n"
   ]
  },
  {
   "cell_type": "code",
   "execution_count": null,
   "metadata": {},
   "outputs": [],
   "source": [
    "# remove the two last layers\n",
    "model.layers.pop()\n",
    "model.layers.pop()\n",
    "model.layers[-1].outbound_nodes = []\n",
    "model.outputs = [model.layers[-1].output]\n",
    "print(model.summary())"
   ]
  },
  {
   "cell_type": "markdown",
   "metadata": {},
   "source": [
    "Nous devons ensuite préparer le nouveau dataset : CIFAR10.\n",
    "\n",
    "<div class=\"alert alert-success\">\n",
    "<b>QUESTION : Charger et normaliser les données de CIFAR10.</b>\n",
    "<br/>\n",
    "On utilisera le code précédent et la commande de chargement `cifar10.load_data()`\n",
    "</div>"
   ]
  },
  {
   "cell_type": "code",
   "execution_count": null,
   "metadata": {},
   "outputs": [],
   "source": [
    "cifar10_num_classes = 10\n",
    "\n",
    "..."
   ]
  },
  {
   "cell_type": "markdown",
   "metadata": {},
   "source": [
    "#### Utilisation des features + SVM\n",
    "\n",
    "La première approche consiste à récupérer les features et à entrainer un SVM sur ces features.\n",
    "\n"
   ]
  },
  {
   "cell_type": "markdown",
   "metadata": {},
   "source": [
    "<div class=\"alert alert-success\">\n",
    "<b>QUESTION : Remplir un tableau numpy avec 1000 features (choisir les données au hasard) du dataset d'entraînement CIFAR10</b>\n",
    "<br/>\n",
    "<b>QUESTION : Entraîner un SVC de Scikit learn sur ces données</b>\n",
    "<br/>\n",
    "<b>QUESTION : Donner la précision, la précision par classe et la précision moyenne par classe du modèle</b>\n",
    "</div>"
   ]
  },
  {
   "cell_type": "code",
   "execution_count": null,
   "metadata": {
    "collapsed": true
   },
   "outputs": [],
   "source": [
    "from sklearn.svm import SVC\n",
    "..."
   ]
  },
  {
   "cell_type": "markdown",
   "metadata": {},
   "source": [
    "##### Finetunning\n",
    "\n",
    "Le finetuning consiste en l'utilisation d'un réseau pré-entraîné, dont on remplace les dernière couches (pour correspondre au nouveau nombre de classes) et qu'on ré-entraîne afin de spécialiser les couches ajoutées.\n",
    "\n"
   ]
  },
  {
   "cell_type": "markdown",
   "metadata": {},
   "source": [
    "<div class=\"alert alert-success\">\n",
    "<b>QUESTION : Ajouter des couches au réseaux qu'il puisse faire de la classification à 10 classes.</b>\n",
    "<br/>\n",
    "En suivant, l'exemple du modèle précédent nous, devons ajouter deux couches.\n",
    "</div>"
   ]
  },
  {
   "cell_type": "code",
   "execution_count": null,
   "metadata": {
    "collapsed": true
   },
   "outputs": [],
   "source": [
    "cifar10_num_classes = 10\n",
    "# HERE GOES THE CODE\n",
    "# ..."
   ]
  },
  {
   "cell_type": "markdown",
   "metadata": {},
   "source": [
    "Étant donné que nous disposons d'une puissance de calcul limitée, nous ne voulons entraîner que la dernière couche. Pour se faire nous interdisons la mise à jour des poids pour toutes couches sauf celles que nous venons d'ajouter :"
   ]
  },
  {
   "cell_type": "code",
   "execution_count": null,
   "metadata": {
    "collapsed": true
   },
   "outputs": [],
   "source": [
    "for layer in model.layers[:len(model.layers)-2]:\n",
    "    layer.trainable = False"
   ]
  },
  {
   "cell_type": "markdown",
   "metadata": {},
   "source": [
    "Définition de l'optimiseur.\n",
    "<div class=\"alert alert-success\">\n",
    "<b>QUESTION : Rappeler le principe de l'optimiseur Adam.</b>\n",
    "<br/>\n",
    "</div>"
   ]
  },
  {
   "cell_type": "markdown",
   "metadata": {},
   "source": [
    "<div class=\"alert alert-warning\">\n",
    "<b>REPONSE</b>\n",
    "<br/>\n",
    "\n",
    "...\n",
    "\n",
    "</div>"
   ]
  },
  {
   "cell_type": "markdown",
   "metadata": {},
   "source": [
    "Définition de l'optimiseur.\n"
   ]
  },
  {
   "cell_type": "code",
   "execution_count": null,
   "metadata": {
    "collapsed": true
   },
   "outputs": [],
   "source": [
    "optimizer = keras.optimizers.Adam(lr=1e-4)"
   ]
  },
  {
   "cell_type": "markdown",
   "metadata": {
    "collapsed": true
   },
   "source": [
    "Pour entraîner le model avec la bibliothèque Keras, il faut précompiler le modèle."
   ]
  },
  {
   "cell_type": "code",
   "execution_count": null,
   "metadata": {
    "collapsed": true
   },
   "outputs": [],
   "source": [
    "# compile the model\n",
    "model.compile(loss='categorical_crossentropy',\n",
    "              optimizer=optimizer,\n",
    "              metrics=['accuracy'])"
   ]
  },
  {
   "cell_type": "markdown",
   "metadata": {},
   "source": [
    "Entraînement."
   ]
  },
  {
   "cell_type": "code",
   "execution_count": null,
   "metadata": {},
   "outputs": [],
   "source": [
    "epochs = 1\n",
    "batch_size = 10\n",
    "model.fit(x_train, y_train,\n",
    "              batch_size=batch_size,\n",
    "              epochs=epochs,\n",
    "              validation_data=(x_test, y_test),\n",
    "              shuffle=True)"
   ]
  },
  {
   "cell_type": "markdown",
   "metadata": {},
   "source": [
    "<div class=\"alert alert-success\">\n",
    "<b>QUESTION : Donner la précision, la précision par classe et la précision moyenne par classe du modèle</b>\n",
    "</div>"
   ]
  },
  {
   "cell_type": "code",
   "execution_count": null,
   "metadata": {},
   "outputs": [],
   "source": [
    "model.predict(np.expand_dims(x_train[0], axis=0))"
   ]
  }
 ],
 "metadata": {
  "kernelspec": {
   "display_name": "Python 3",
   "language": "python",
   "name": "python3"
  },
  "language_info": {
   "codemirror_mode": {
    "name": "ipython",
    "version": 3
   },
   "file_extension": ".py",
   "mimetype": "text/x-python",
   "name": "python",
   "nbconvert_exporter": "python",
   "pygments_lexer": "ipython3",
   "version": "3.6.1"
  }
 },
 "nbformat": 4,
 "nbformat_minor": 2
}
